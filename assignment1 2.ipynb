{
 "cells": [
  {
   "cell_type": "markdown",
   "metadata": {
    "deletable": false,
    "editable": false,
    "nbgrader": {
     "cell_type": "markdown",
     "checksum": "bb4e2877f2f4b2e6ed4718d2893634c1",
     "grade": false,
     "grade_id": "cell-69c39b45a3de0dce",
     "locked": true,
     "schema_version": 3,
     "solution": false,
     "task": false
    },
    "tags": []
   },
   "source": [
    "# Assignment 1 - Creating and Manipulating Graphs\n",
    "\n",
    "Eight employees at a small company were asked to choose 3 movies that they would most enjoy watching for the upcoming company movie night. These choices are stored in the file `assets/Employee_Movie_Choices.txt`.\n",
    "\n",
    "A second file, `assets/Employee_Relationships.txt`, has data on the relationships between different coworkers. \n",
    "\n",
    "The relationship score has value of `-100` (Enemies) to `+100` (Best Friends). A value of zero means the two employees haven't interacted or are indifferent.\n",
    "\n",
    "Both files are tab delimited."
   ]
  },
  {
   "cell_type": "code",
   "execution_count": 1,
   "metadata": {
    "deletable": false,
    "editable": false,
    "nbgrader": {
     "cell_type": "code",
     "checksum": "9ebfce92d32aebeb619da8610d22bbbf",
     "grade": false,
     "grade_id": "cell-880320d7430bc93c",
     "locked": true,
     "schema_version": 3,
     "solution": false,
     "task": false
    }
   },
   "outputs": [],
   "source": [
    "import networkx as nx\n",
    "import pandas as pd\n",
    "import numpy as np\n",
    "\n",
    "\n",
    "# This is the set of employees\n",
    "employees = set(['Pablo',\n",
    "                 'Lee',\n",
    "                 'Georgia',\n",
    "                 'Vincent',\n",
    "                 'Andy',\n",
    "                 'Frida',\n",
    "                 'Joan',\n",
    "                 'Claude'])\n",
    "\n",
    "# This is the set of movies\n",
    "movies = set(['The Shawshank Redemption',\n",
    "              'Forrest Gump',\n",
    "              'The Matrix',\n",
    "              'Anaconda',\n",
    "              'The Social Network',\n",
    "              'The Godfather',\n",
    "              'Monty Python and the Holy Grail',\n",
    "              'Snakes on a Plane',\n",
    "              'Kung Fu Panda',\n",
    "              'The Dark Knight',\n",
    "              'Mean Girls'])\n",
    "\n",
    "\n",
    "# you can use the following function to plot graphs\n",
    "# make sure to comment it out before submitting to the autograder\n",
    "def plot_graph(G, weight_name=None):\n",
    "    '''\n",
    "    G: a networkx G\n",
    "    weight_name: name of the attribute for plotting edge weights (if G is weighted)\n",
    "    '''\n",
    "    #%matplotlib notebook\n",
    "    import matplotlib.pyplot as plt\n",
    "    \n",
    "    plt.figure()\n",
    "    pos = nx.spring_layout(G)\n",
    "    edges = G.edges()\n",
    "    weights = None\n",
    "    \n",
    "    if weight_name:\n",
    "        weights = [int(G[u][v][weight_name]) for u,v in edges]\n",
    "        labels = nx.get_edge_attributes(G,weight_name)\n",
    "        nx.draw_networkx_edge_labels(G,pos,edge_labels=labels)\n",
    "        nx.draw_networkx(G, pos, width=weights);\n",
    "    else:\n",
    "        nx.draw_networkx(G, pos,);"
   ]
  },
  {
   "cell_type": "code",
   "execution_count": 87,
   "metadata": {},
   "outputs": [
    {
     "name": "stdout",
     "output_type": "stream",
     "text": [
      "#Employee\tMovie\n",
      "Andy\tAnaconda\n",
      "Andy\tMean Girls\n",
      "Andy\tThe Matrix\n",
      "Claude\tAnaconda\n"
     ]
    }
   ],
   "source": [
    "!head -5 assets/Employee_Movie_Choices.txt"
   ]
  },
  {
   "cell_type": "code",
   "execution_count": 88,
   "metadata": {},
   "outputs": [
    {
     "name": "stdout",
     "output_type": "stream",
     "text": [
      "Andy\tClaude\t0\n",
      "Andy\tFrida\t20\n",
      "Andy\tGeorgia\t-10\n",
      "Andy\tJoan\t30\n",
      "Andy\tLee\t-10\n"
     ]
    }
   ],
   "source": [
    "!head -5 assets/Employee_Relationships.txt"
   ]
  },
  {
   "cell_type": "markdown",
   "metadata": {
    "deletable": false,
    "editable": false,
    "nbgrader": {
     "cell_type": "markdown",
     "checksum": "0b6347bb31ef371bbca723a98ae77ab3",
     "grade": false,
     "grade_id": "cell-1790d513ed5dcd72",
     "locked": true,
     "schema_version": 3,
     "solution": false,
     "task": false
    }
   },
   "source": [
    "### Question 1\n",
    "\n",
    "Using NetworkX, load in the bipartite graph from `assets/Employee_Movie_Choices.txt` and return that graph.\n",
    "\n",
    "*This function should return a bipartite networkx graph with 19 nodes and 24 edges*"
   ]
  },
  {
   "cell_type": "code",
   "execution_count": 18,
   "metadata": {
    "deletable": false,
    "nbgrader": {
     "cell_type": "code",
     "checksum": "e1d9e71e3686a4633566908ab722faab",
     "grade": false,
     "grade_id": "cell-e815deb246dc7c0f",
     "locked": false,
     "schema_version": 3,
     "solution": true,
     "task": false
    }
   },
   "outputs": [
    {
     "name": "stdout",
     "output_type": "stream",
     "text": [
      "Graph has 19 nodes and 24 edges.\n"
     ]
    },
    {
     "data": {
      "text/plain": [
       "<networkx.classes.graph.Graph at 0x72315807a3a0>"
      ]
     },
     "execution_count": 18,
     "metadata": {},
     "output_type": "execute_result"
    }
   ],
   "source": [
    "def answer_one():\n",
    "    from networkx.algorithms import bipartite\n",
    "    # Load the bipartite graph from the file\n",
    "    G = nx.read_edgelist('assets/Employee_Movie_Choices.txt', delimiter=\"\\t\")\n",
    "    \n",
    "    # Print the graph to verify it has been loaded correctly\n",
    "    print(f\"Graph has {G.number_of_nodes()} nodes and {G.number_of_edges()} edges.\")\n",
    "    return G\n",
    "\n",
    "# Call the function to test it\n",
    "answer_one()"
   ]
  },
  {
   "cell_type": "code",
   "execution_count": 19,
   "metadata": {
    "deletable": false,
    "editable": false,
    "nbgrader": {
     "cell_type": "code",
     "checksum": "3f8a6334e337a41d20d03f2f8695869b",
     "grade": true,
     "grade_id": "cell-029237261317f603",
     "locked": true,
     "points": 2,
     "schema_version": 3,
     "solution": false,
     "task": false
    }
   },
   "outputs": [
    {
     "name": "stdout",
     "output_type": "stream",
     "text": [
      "Graph has 19 nodes and 24 edges.\n"
     ]
    }
   ],
   "source": [
    "assert type(answer_one()) == nx.Graph , \"Your return type should be a Graph object\"\n",
    "\n"
   ]
  },
  {
   "cell_type": "markdown",
   "metadata": {
    "deletable": false,
    "editable": false,
    "nbgrader": {
     "cell_type": "markdown",
     "checksum": "31d0ec5303fd9cc6e60cd483df78a3c5",
     "grade": false,
     "grade_id": "cell-249394e1cc31d0ca",
     "locked": true,
     "schema_version": 3,
     "solution": false,
     "task": false
    }
   },
   "source": [
    "### Question 2\n",
    "\n",
    "Using the graph from the previous question, add nodes attributes named `'type'` where movies have the value `'movie'` and employees have the value `'employee'` and return that graph.\n",
    "\n",
    "*This function should return a bipartite networkx graph with node attributes `{'type': 'movie'}` or `{'type': 'employee'}`*"
   ]
  },
  {
   "cell_type": "code",
   "execution_count": 153,
   "metadata": {
    "deletable": false,
    "nbgrader": {
     "cell_type": "code",
     "checksum": "c94a82f1cdebf5de6a596a3d7574e7cd",
     "grade": false,
     "grade_id": "cell-4e6cd02626012f3d",
     "locked": false,
     "schema_version": 3,
     "solution": true,
     "task": false
    }
   },
   "outputs": [
    {
     "name": "stdout",
     "output_type": "stream",
     "text": [
      "Graph has 19 nodes and 24 edges.\n",
      "Node: Andy, Type: employee\n",
      "Node: Anaconda, Type: movie\n",
      "Node: Mean Girls, Type: movie\n",
      "Node: The Matrix, Type: movie\n",
      "Node: Claude, Type: employee\n",
      "Node: Monty Python and the Holy Grail, Type: movie\n",
      "Node: Snakes on a Plane, Type: movie\n",
      "Node: Frida, Type: employee\n",
      "Node: The Shawshank Redemption, Type: movie\n",
      "Node: The Social Network, Type: movie\n",
      "Node: Georgia, Type: employee\n",
      "Node: Joan, Type: employee\n",
      "Node: Forrest Gump, Type: movie\n",
      "Node: Kung Fu Panda, Type: movie\n",
      "Node: Lee, Type: employee\n",
      "Node: Pablo, Type: employee\n",
      "Node: The Dark Knight, Type: movie\n",
      "Node: Vincent, Type: employee\n",
      "Node: The Godfather, Type: movie\n"
     ]
    }
   ],
   "source": [
    "from networkx.algorithms import bipartite\n",
    "\n",
    "def answer_two():\n",
    "    G = answer_one()\n",
    "\n",
    "    # Assuming you know which set represents employees\n",
    "    employees, movies = bipartite.sets(G)\n",
    "    \n",
    "    for node in G.nodes():\n",
    "        if node in employees:\n",
    "            G.nodes[node]['type'] = 'employee'\n",
    "        else:\n",
    "            G.nodes[node]['type'] = 'movie'\n",
    "    \n",
    "    return G\n",
    "G = answer_two()  # Call your function to get the updated graph\n",
    "for node, data in G.nodes(data=True):\n",
    "    print(f\"Node: {node}, Type: {data['type']}\")"
   ]
  },
  {
   "cell_type": "code",
   "execution_count": 151,
   "metadata": {
    "deletable": false,
    "editable": false,
    "nbgrader": {
     "cell_type": "code",
     "checksum": "6df8d9fd4f193c5997afafc0c55a4723",
     "grade": true,
     "grade_id": "cell-c0500f828d5662fb",
     "locked": true,
     "points": 2,
     "schema_version": 3,
     "solution": false,
     "task": false
    }
   },
   "outputs": [
    {
     "name": "stdout",
     "output_type": "stream",
     "text": [
      "Graph has 19 nodes and 24 edges.\n"
     ]
    }
   ],
   "source": [
    "assert type(answer_two()) == nx.Graph , \"Your return type should be a Graph object\"\n"
   ]
  },
  {
   "cell_type": "markdown",
   "metadata": {
    "deletable": false,
    "editable": false,
    "nbgrader": {
     "cell_type": "markdown",
     "checksum": "eb66ee80f345c2a630a06e6535bdccc0",
     "grade": false,
     "grade_id": "cell-533037784f789d72",
     "locked": true,
     "schema_version": 3,
     "solution": false,
     "task": false
    }
   },
   "source": [
    "### Question 3\n",
    "\n",
    "Find a weighted projection of the graph from `answer_two` which tells us how many movies different pairs of employees have in common.\n",
    "\n",
    "*This function should return a weighted projected graph.*"
   ]
  },
  {
   "cell_type": "code",
   "execution_count": 154,
   "metadata": {
    "deletable": false,
    "nbgrader": {
     "cell_type": "code",
     "checksum": "6a379f240aa02023d75b7defe4b11416",
     "grade": false,
     "grade_id": "cell-e85f388dda0fc212",
     "locked": false,
     "schema_version": 3,
     "solution": true,
     "task": false
    }
   },
   "outputs": [],
   "source": [
    "from networkx.algorithms import bipartite\n",
    "\n",
    "def answer_three():\n",
    "    # Get the bipartite graph from answer_two\n",
    "    G = answer_two()\n",
    "    \n",
    "    # Extract employee nodes\n",
    "    employees = [node for node, data in G.nodes(data=True) if data['type'] == 'employee']\n",
    "    \n",
    "    # Compute the weighted projection on the employee nodes\n",
    "    projected_graph = bipartite.weighted_projected_graph(G, employees)\n",
    "    \n",
    "    return projected_graph"
   ]
  },
  {
   "cell_type": "code",
   "execution_count": 155,
   "metadata": {
    "deletable": false,
    "editable": false,
    "nbgrader": {
     "cell_type": "code",
     "checksum": "f26f092b5bdb8dfe0331595b6c463ea4",
     "grade": false,
     "grade_id": "cell-6b4a16b4c1bab3d2",
     "locked": true,
     "schema_version": 3,
     "solution": false,
     "task": false
    }
   },
   "outputs": [
    {
     "name": "stdout",
     "output_type": "stream",
     "text": [
      "Graph has 19 nodes and 24 edges.\n"
     ]
    },
    {
     "data": {
      "text/plain": [
       "EdgeDataView([('Andy', 'Joan', {'weight': 1}), ('Andy', 'Frida', {'weight': 1}), ('Andy', 'Claude', {'weight': 1}), ('Andy', 'Pablo', {'weight': 1}), ('Andy', 'Georgia', {'weight': 1}), ('Andy', 'Lee', {'weight': 1}), ('Claude', 'Georgia', {'weight': 3}), ('Frida', 'Pablo', {'weight': 2}), ('Frida', 'Vincent', {'weight': 2}), ('Joan', 'Lee', {'weight': 3}), ('Pablo', 'Vincent', {'weight': 1})])"
      ]
     },
     "execution_count": 155,
     "metadata": {},
     "output_type": "execute_result"
    },
    {
     "data": {
      "image/png": "[encoded data removed]",
      "text/plain": [
       "<Figure size 640x480 with 1 Axes>"
      ]
     },
     "metadata": {},
     "output_type": "display_data"
    }
   ],
   "source": [
    "G = answer_three()\n",
    "plot_graph(G, weight_name=\"weight\")\n",
    "G.edges(data = True)"
   ]
  },
  {
   "cell_type": "code",
   "execution_count": 156,
   "metadata": {
    "tags": []
   },
   "outputs": [
    {
     "name": "stdout",
     "output_type": "stream",
     "text": [
      "Graph has 19 nodes and 24 edges.\n",
      "Edge between Andy and Joan has weight 1\n",
      "Edge between Andy and Frida has weight 1\n",
      "Edge between Andy and Claude has weight 1\n",
      "Edge between Andy and Pablo has weight 1\n",
      "Edge between Andy and Georgia has weight 1\n",
      "Edge between Andy and Lee has weight 1\n",
      "Edge between Claude and Georgia has weight 3\n",
      "Edge between Frida and Pablo has weight 2\n",
      "Edge between Frida and Vincent has weight 2\n",
      "Edge between Joan and Lee has weight 3\n",
      "Edge between Pablo and Vincent has weight 1\n"
     ]
    }
   ],
   "source": [
    "G_proj = answer_three()  # Get the projected graph\n",
    "for u, v, data in G_proj.edges(data=True):\n",
    "    print(f\"Edge between {u} and {v} has weight {data['weight']}\")"
   ]
  },
  {
   "cell_type": "code",
   "execution_count": 135,
   "metadata": {
    "collapsed": true,
    "deletable": false,
    "editable": false,
    "jupyter": {
     "outputs_hidden": true,
     "source_hidden": true
    },
    "nbgrader": {
     "cell_type": "code",
     "checksum": "bfcb5ab968326a6601fb98510d7d61bd",
     "grade": true,
     "grade_id": "cell-2778b8d02bc4ca1c",
     "locked": true,
     "points": 1,
     "schema_version": 3,
     "solution": false,
     "task": false
    },
    "tags": []
   },
   "outputs": [
    {
     "name": "stdout",
     "output_type": "stream",
     "text": [
      "Graph has 19 nodes and 24 edges.\n",
      "Andy: {'type': 'employee'}\n",
      "Anaconda: {'type': 'movie'}\n",
      "Mean Girls: {'type': 'movie'}\n",
      "The Matrix: {'type': 'movie'}\n",
      "Claude: {'type': 'employee'}\n",
      "Monty Python and the Holy Grail: {'type': 'movie'}\n",
      "Snakes on a Plane: {'type': 'movie'}\n",
      "Frida: {'type': 'employee'}\n",
      "The Shawshank Redemption: {'type': 'movie'}\n",
      "The Social Network: {}\n",
      "Georgia: {'type': 'employee'}\n",
      "Joan: {'type': 'employee'}\n",
      "Forrest Gump: {'type': 'movie'}\n",
      "Kung Fu Panda: {}\n",
      "Lee: {'type': 'employee'}\n",
      "Pablo: {'type': 'employee'}\n",
      "The Dark Knight: {'type': 'movie'}\n",
      "Vincent: {'type': 'employee'}\n",
      "The Godfather: {'type': 'movie'}\n"
     ]
    }
   ],
   "source": [
    "assert type(answer_three()) == nx.Graph , \"Your return type should be a Graph object\"\n"
   ]
  },
  {
   "cell_type": "code",
   "execution_count": null,
   "metadata": {},
   "outputs": [],
   "source": []
  },
  {
   "cell_type": "markdown",
   "metadata": {
    "deletable": false,
    "editable": false,
    "nbgrader": {
     "cell_type": "markdown",
     "checksum": "f30fedf55c4d28936a56146e82a4318f",
     "grade": false,
     "grade_id": "cell-7334d98bbe114440",
     "locked": true,
     "schema_version": 3,
     "solution": false,
     "task": false
    },
    "tags": []
   },
   "source": [
    "### Question 4\n",
    "\n",
    "Suppose you'd like to find out if people that have a high relationship score also like the same types of movies.\n",
    "\n",
    "Find the pearson correlation between employee relationship scores and the number of movies they have in common. If two employees have no movies in common it should be treated as a 0, not a missing value, and should be included in the correlation calculation.\n",
    "\n",
    "*This function should return a float.*"
   ]
  },
  {
   "cell_type": "code",
   "execution_count": 159,
   "metadata": {
    "deletable": false,
    "jupyter": {
     "source_hidden": true
    },
    "nbgrader": {
     "cell_type": "code",
     "checksum": "2b46a672ad43d429dc76893d15b8e76a",
     "grade": false,
     "grade_id": "cell-6c1b9a8d087e47c8",
     "locked": false,
     "schema_version": 3,
     "solution": true,
     "task": false
    },
    "tags": []
   },
   "outputs": [],
   "source": [
    "import pandas as pd\n",
    "\n",
    "def answer_four():\n",
    "    # Load the weighted projected graph from answer_three\n",
    "    G = answer_three()\n",
    "    \n",
    "    # Convert the edges of the weighted projection graph to a DataFrame\n",
    "    common_movie_df = pd.DataFrame(G.edges(data=True), columns=[0, 1, 'common_movies'])\n",
    "    common_movie_df['common_movies'] = common_movie_df['common_movies'].map(lambda x: x['weight'])\n",
    "    \n",
    "    # Read in the relationships data from the file\n",
    "    relation_df = pd.read_csv('assets/Employee_Relationships.txt', delimiter=\"\\t\", header=None, names=[0, 1, 'Relations'])\n",
    "    \n",
    "    # Merge the relationship data with the common movie data\n",
    "    merged = relation_df.merge(common_movie_df, on=[0, 1], how='left')\n",
    "    \n",
    "    # Fill NaN values with 0 (for pairs with no common movies)\n",
    "    merged.fillna(0, inplace=True)\n",
    "    \n",
    "    # Calculate the Pearson correlation between 'Relations' and 'common_movies'\n",
    "    correlation = merged[['Relations', 'common_movies']].corr().iloc[0, 1]\n",
    "    \n",
    "    return float(correlation)"
   ]
  },
  {
   "cell_type": "code",
   "execution_count": 160,
   "metadata": {
    "deletable": false,
    "editable": false,
    "nbgrader": {
     "cell_type": "code",
     "checksum": "a77b0d29ae15deba7b0ad67c71334004",
     "grade": true,
     "grade_id": "cell-b7b288e5ac139702",
     "locked": true,
     "points": 4,
     "schema_version": 3,
     "solution": false,
     "task": false
    }
   },
   "outputs": [
    {
     "name": "stdout",
     "output_type": "stream",
     "text": [
      "Graph has 19 nodes and 24 edges.\n"
     ]
    }
   ],
   "source": [
    "ans_four = answer_four()"
   ]
  },
  {
   "cell_type": "code",
   "execution_count": 162,
   "metadata": {},
   "outputs": [
    {
     "name": "stdout",
     "output_type": "stream",
     "text": [
      "Graph has 19 nodes and 24 edges.\n",
      "Pearson Correlation: 0.7883962221733474\n"
     ]
    }
   ],
   "source": [
    "correlation = answer_four()\n",
    "print(f\"Pearson Correlation: {correlation}\")"
   ]
  },
  {
   "cell_type": "code",
   "execution_count": null,
   "metadata": {},
   "outputs": [],
   "source": []
  }
 ],
 "metadata": {
  "anaconda-cloud": {},
  "kernelspec": {
   "display_name": "Python 3 (ipykernel)",
   "language": "python",
   "name": "python3"
  },
  "language_info": {
   "codemirror_mode": {
    "name": "ipython",
    "version": 3
   },
   "file_extension": ".py",
   "mimetype": "text/x-python",
   "name": "python",
   "nbconvert_exporter": "python",
   "pygments_lexer": "ipython3",
   "version": "3.9.13"
  }
 },
 "nbformat": 4,
 "nbformat_minor": 4
}
